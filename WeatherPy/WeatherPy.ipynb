{
 "cells": [
  {
   "cell_type": "markdown",
   "metadata": {},
   "source": [
    "# WeatherPy\n",
    "----\n",
    "\n",
    "#### Note\n",
    "* Instructions have been included for each segment. You do not have to follow them exactly, but they are included to help you think through the steps."
   ]
  },
  {
   "cell_type": "code",
   "execution_count": 1,
   "metadata": {
    "scrolled": true
   },
   "outputs": [],
   "source": [
    "# Dependencies and Setup\n",
    "import matplotlib.pyplot as plt\n",
    "import pandas as pd\n",
    "import numpy as np\n",
    "import requests\n",
    "import time\n",
    "\n",
    "# Import API key\n",
    "from api_keys import api_key\n",
    "\n",
    "# Incorporated citipy to determine city based on latitude and longitude\n",
    "from citipy import citipy\n",
    "\n",
    "# Output File (CSV)\n",
    "output_data_file = \"cities.csv\"\n",
    "\n",
    "# Range of latitudes and longitudes\n",
    "lat_range = (-90, 90)\n",
    "lng_range = (-180, 180)"
   ]
  },
  {
   "cell_type": "markdown",
   "metadata": {},
   "source": [
    "## Generate Cities List"
   ]
  },
  {
   "cell_type": "code",
   "execution_count": 2,
   "metadata": {},
   "outputs": [
    {
     "data": {
      "text/plain": [
       "612"
      ]
     },
     "execution_count": 2,
     "metadata": {},
     "output_type": "execute_result"
    }
   ],
   "source": [
    "# List for holding lat_lngs and cities\n",
    "lat_lngs = []\n",
    "cities = []\n",
    "\n",
    "# Create a set of random lat and lng combinations\n",
    "lats = np.random.uniform(low=-90.000, high=90.000, size=1500)\n",
    "lngs = np.random.uniform(low=-180.000, high=180.000, size=1500)\n",
    "lat_lngs = zip(lats, lngs)\n",
    "\n",
    "# Identify nearest city for each lat, lng combination\n",
    "for lat_lng in lat_lngs:\n",
    "    city = citipy.nearest_city(lat_lng[0], lat_lng[1]).city_name\n",
    "    \n",
    "    # If the city is unique, then add it to a our cities list\n",
    "    if city not in cities:\n",
    "        cities.append(city)\n",
    "\n",
    "# Print the city count to confirm sufficient count\n",
    "len(cities)"
   ]
  },
  {
   "cell_type": "markdown",
   "metadata": {},
   "source": [
    "### Perform API Calls\n",
    "* Perform a weather check on each city using a series of successive API calls.\n",
    "* Include a print log of each city as it'sbeing processed (with the city number and city name).\n"
   ]
  },
  {
   "cell_type": "code",
   "execution_count": 3,
   "metadata": {},
   "outputs": [],
   "source": [
    "def get_current_weather(city, api_key):\n",
    "    \n",
    "    url = \"http://api.openweathermap.org/data/2.5/weather\"\n",
    "    payload = {\n",
    "        \"appid\": api_key,\n",
    "        \"q\": city\n",
    "    }\n",
    "    r = requests.get(url, params=payload)\n",
    "    \n",
    "    if r.status_code == 200:\n",
    "        return r.json()\n",
    "    else:\n",
    "        return None\n",
    "\n",
    "all_cities = []\n",
    "for city in cities:\n",
    "    result = get_current_weather(city, api_key)\n",
    "    if result:\n",
    "        all_cities.append(result)\n",
    "df = pd.DataFrame([{\n",
    "    \"name\": d[\"name\"],\n",
    "    \"date_time\": d[\"dt\"],\n",
    "    \"lat\": d[\"coord\"][\"lat\"],\n",
    "    \"lon\": d[\"coord\"][\"lon\"],\n",
    "    \"temp\": d[\"main\"][\"temp\"],\n",
    "    \"temp_min\": d[\"main\"][\"temp_min\"],\n",
    "    \"temp_max\": d[\"main\"][\"temp_max\"],\n",
    "    \"humidity\": d[\"main\"][\"humidity\"],\n",
    "    \"wind_speed\": d[\"wind\"][\"speed\"],\n",
    "    \"clouds_pecent\": d[\"clouds\"][\"all\"],\n",
    "} for d in all_cities])"
   ]
  },
  {
   "cell_type": "markdown",
   "metadata": {},
   "source": [
    "### Convert Raw Data to DataFrame\n",
    "* Export the city data into a .csv.\n",
    "* Display the DataFrame"
   ]
  },
  {
   "cell_type": "code",
   "execution_count": 4,
   "metadata": {},
   "outputs": [
    {
     "data": {
      "text/html": [
       "<div>\n",
       "<style scoped>\n",
       "    .dataframe tbody tr th:only-of-type {\n",
       "        vertical-align: middle;\n",
       "    }\n",
       "\n",
       "    .dataframe tbody tr th {\n",
       "        vertical-align: top;\n",
       "    }\n",
       "\n",
       "    .dataframe thead th {\n",
       "        text-align: right;\n",
       "    }\n",
       "</style>\n",
       "<table border=\"1\" class=\"dataframe\">\n",
       "  <thead>\n",
       "    <tr style=\"text-align: right;\">\n",
       "      <th></th>\n",
       "      <th>name</th>\n",
       "      <th>date_time</th>\n",
       "      <th>lat</th>\n",
       "      <th>lon</th>\n",
       "      <th>temp</th>\n",
       "      <th>temp_min</th>\n",
       "      <th>temp_max</th>\n",
       "      <th>humidity</th>\n",
       "      <th>wind_speed</th>\n",
       "      <th>clouds_pecent</th>\n",
       "    </tr>\n",
       "  </thead>\n",
       "  <tbody>\n",
       "    <tr>\n",
       "      <th>0</th>\n",
       "      <td>Vaitape</td>\n",
       "      <td>1577916293</td>\n",
       "      <td>-16.52</td>\n",
       "      <td>-151.75</td>\n",
       "      <td>300.65</td>\n",
       "      <td>300.65</td>\n",
       "      <td>300.65</td>\n",
       "      <td>79</td>\n",
       "      <td>9.28</td>\n",
       "      <td>100</td>\n",
       "    </tr>\n",
       "    <tr>\n",
       "      <th>1</th>\n",
       "      <td>Yellowknife</td>\n",
       "      <td>1577916440</td>\n",
       "      <td>62.45</td>\n",
       "      <td>-114.38</td>\n",
       "      <td>259.15</td>\n",
       "      <td>259.15</td>\n",
       "      <td>259.15</td>\n",
       "      <td>92</td>\n",
       "      <td>2.60</td>\n",
       "      <td>90</td>\n",
       "    </tr>\n",
       "    <tr>\n",
       "      <th>2</th>\n",
       "      <td>Balkhash</td>\n",
       "      <td>1577916440</td>\n",
       "      <td>46.84</td>\n",
       "      <td>74.98</td>\n",
       "      <td>266.96</td>\n",
       "      <td>266.96</td>\n",
       "      <td>266.96</td>\n",
       "      <td>95</td>\n",
       "      <td>3.14</td>\n",
       "      <td>100</td>\n",
       "    </tr>\n",
       "    <tr>\n",
       "      <th>3</th>\n",
       "      <td>Avarua</td>\n",
       "      <td>1577916440</td>\n",
       "      <td>-21.21</td>\n",
       "      <td>-159.78</td>\n",
       "      <td>299.15</td>\n",
       "      <td>299.15</td>\n",
       "      <td>299.15</td>\n",
       "      <td>74</td>\n",
       "      <td>18.00</td>\n",
       "      <td>99</td>\n",
       "    </tr>\n",
       "    <tr>\n",
       "      <th>4</th>\n",
       "      <td>Grafton</td>\n",
       "      <td>1577916442</td>\n",
       "      <td>-29.69</td>\n",
       "      <td>152.93</td>\n",
       "      <td>297.50</td>\n",
       "      <td>296.15</td>\n",
       "      <td>298.15</td>\n",
       "      <td>88</td>\n",
       "      <td>0.65</td>\n",
       "      <td>34</td>\n",
       "    </tr>\n",
       "  </tbody>\n",
       "</table>\n",
       "</div>"
      ],
      "text/plain": [
       "          name   date_time    lat     lon    temp  temp_min  temp_max  \\\n",
       "0      Vaitape  1577916293 -16.52 -151.75  300.65    300.65    300.65   \n",
       "1  Yellowknife  1577916440  62.45 -114.38  259.15    259.15    259.15   \n",
       "2     Balkhash  1577916440  46.84   74.98  266.96    266.96    266.96   \n",
       "3       Avarua  1577916440 -21.21 -159.78  299.15    299.15    299.15   \n",
       "4      Grafton  1577916442 -29.69  152.93  297.50    296.15    298.15   \n",
       "\n",
       "   humidity  wind_speed  clouds_pecent  \n",
       "0        79        9.28            100  \n",
       "1        92        2.60             90  \n",
       "2        95        3.14            100  \n",
       "3        74       18.00             99  \n",
       "4        88        0.65             34  "
      ]
     },
     "execution_count": 4,
     "metadata": {},
     "output_type": "execute_result"
    }
   ],
   "source": [
    "df.head()"
   ]
  },
  {
   "cell_type": "code",
   "execution_count": 5,
   "metadata": {},
   "outputs": [],
   "source": [
    "df.to_csv(\"cities.csv\")"
   ]
  },
  {
   "cell_type": "markdown",
   "metadata": {},
   "source": [
    "### Plotting the Data\n",
    "* Use proper labeling of the plots using plot titles (including date of analysis) and axes labels.\n",
    "* Save the plotted figures as .pngs."
   ]
  },
  {
   "cell_type": "markdown",
   "metadata": {},
   "source": [
    "#### Latitude vs. Temperature Plot"
   ]
  },
  {
   "cell_type": "code",
   "execution_count": 6,
   "metadata": {},
   "outputs": [],
   "source": [
    "#Convert temperature to Farenheight"
   ]
  },
  {
   "cell_type": "code",
   "execution_count": 7,
   "metadata": {},
   "outputs": [
    {
     "data": {
      "text/plain": [
       "<matplotlib.collections.PathCollection at 0x1a2ec123cc8>"
      ]
     },
     "execution_count": 7,
     "metadata": {},
     "output_type": "execute_result"
    },
    {
     "data": {
      "image/png": "[encoded data removed]",
      "text/plain": [
       "<Figure size 432x288 with 1 Axes>"
      ]
     },
     "metadata": {
      "needs_background": "light"
     },
     "output_type": "display_data"
    }
   ],
   "source": [
    "plt.scatter(df[\"lat\"], df[\"temp\"])"
   ]
  },
  {
   "cell_type": "markdown",
   "metadata": {},
   "source": [
    "#### Latitude vs. Humidity Plot"
   ]
  },
  {
   "cell_type": "code",
   "execution_count": null,
   "metadata": {},
   "outputs": [],
   "source": []
  },
  {
   "cell_type": "markdown",
   "metadata": {},
   "source": [
    "#### Latitude vs. Cloudiness Plot"
   ]
  },
  {
   "cell_type": "code",
   "execution_count": null,
   "metadata": {},
   "outputs": [],
   "source": []
  },
  {
   "cell_type": "markdown",
   "metadata": {},
   "source": [
    "#### Latitude vs. Wind Speed Plot"
   ]
  },
  {
   "cell_type": "code",
   "execution_count": null,
   "metadata": {},
   "outputs": [],
   "source": []
  },
  {
   "cell_type": "code",
   "execution_count": null,
   "metadata": {},
   "outputs": [],
   "source": []
  }
 ],
 "metadata": {
  "anaconda-cloud": {},
  "kernel_info": {
   "name": "python3"
  },
  "kernelspec": {
   "display_name": "api",
   "language": "python",
   "name": "api"
  },
  "language_info": {
   "codemirror_mode": {
    "name": "ipython",
    "version": 3
   },
   "file_extension": ".py",
   "mimetype": "text/x-python",
   "name": "python",
   "nbconvert_exporter": "python",
   "pygments_lexer": "ipython3",
   "version": "3.7.4"
  },
  "nteract": {
   "version": "0.12.3"
  }
 },
 "nbformat": 4,
 "nbformat_minor": 2
}
