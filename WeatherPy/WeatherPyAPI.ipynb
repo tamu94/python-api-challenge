{
 "cells": [
  {
   "cell_type": "markdown",
   "metadata": {},
   "source": [
    "# WeatherPy\n",
    "----\n",
    "\n",
    "#### Note\n",
    "* Instructions have been included for each segment. You do not have to follow them exactly, but they are included to help you think through the steps."
   ]
  },
  {
   "cell_type": "code",
   "execution_count": 1,
   "metadata": {
    "scrolled": true
   },
   "outputs": [],
   "source": [
    "# Dependencies and Setup\n",
    "import matplotlib.pyplot as plt\n",
    "import pandas as pd\n",
    "import numpy as np\n",
    "import requests\n",
    "import time\n",
    "\n",
    "# Import API key\n",
    "from api_keys import api_key\n",
    "\n",
    "# Incorporated citipy to determine city based on latitude and longitude\n",
    "from citipy import citipy\n",
    "\n",
    "# Output File (CSV)\n",
    "output_data_file = \"cities.csv\"\n",
    "\n",
    "# Range of latitudes and longitudes\n",
    "lat_range = (-90, 90)\n",
    "lng_range = (-180, 180)"
   ]
  },
  {
   "cell_type": "markdown",
   "metadata": {},
   "source": [
    "## Generate Cities List"
   ]
  },
  {
   "cell_type": "code",
   "execution_count": 2,
   "metadata": {},
   "outputs": [
    {
     "data": {
      "text/plain": [
       "592"
      ]
     },
     "execution_count": 2,
     "metadata": {},
     "output_type": "execute_result"
    }
   ],
   "source": [
    "# List for holding lat_lngs and cities\n",
    "lat_lngs = []\n",
    "cities = []\n",
    "\n",
    "# Create a set of random lat and lng combinations\n",
    "lats = np.random.uniform(low=-90.000, high=90.000, size=1500)\n",
    "lngs = np.random.uniform(low=-180.000, high=180.000, size=1500)\n",
    "lat_lngs = zip(lats, lngs)\n",
    "\n",
    "# Identify nearest city for each lat, lng combination\n",
    "for lat_lng in lat_lngs:\n",
    "    city = citipy.nearest_city(lat_lng[0], lat_lng[1]).city_name\n",
    "    \n",
    "    # If the city is unique, then add it to a our cities list\n",
    "    if city not in cities:\n",
    "        cities.append(city)\n",
    "\n",
    "# Print the city count to confirm sufficient count\n",
    "len(cities)"
   ]
  },
  {
   "cell_type": "markdown",
   "metadata": {},
   "source": [
    "### Perform API Calls\n",
    "* Perform a weather check on each city using a series of successive API calls.\n",
    "* Include a print log of each city as it'sbeing processed (with the city number and city name).\n"
   ]
  },
  {
   "cell_type": "code",
   "execution_count": 3,
   "metadata": {},
   "outputs": [],
   "source": [
    "def get_current_weather(city, api_key):\n",
    "    \n",
    "    url = \"http://api.openweathermap.org/data/2.5/weather\"\n",
    "    payload = {\n",
    "        \"appid\": api_key,\n",
    "        \"q\": city\n",
    "    }\n",
    "    r = requests.get(url, params=payload)\n",
    "    \n",
    "    if r.status_code == 200:\n",
    "        return r.json()\n",
    "    else:\n",
    "        return None\n",
    "\n",
    "all_cities = []\n",
    "for city in cities:\n",
    "    result = get_current_weather(city, api_key)\n",
    "    if result:\n",
    "        all_cities.append(result)\n",
    "df = pd.DataFrame([{\n",
    "    \"name\": d[\"name\"],\n",
    "    \"date_time\": d[\"dt\"],\n",
    "    \"lat\": d[\"coord\"][\"lat\"],\n",
    "    \"lon\": d[\"coord\"][\"lon\"],\n",
    "    \"temp\": d[\"main\"][\"temp\"],\n",
    "    \"temp_min\": d[\"main\"][\"temp_min\"],\n",
    "    \"temp_max\": d[\"main\"][\"temp_max\"],\n",
    "    \"humidity\": d[\"main\"][\"humidity\"],\n",
    "    \"wind_speed\": d[\"wind\"][\"speed\"],\n",
    "    \"clouds_percent\": d[\"clouds\"][\"all\"],\n",
    "} for d in all_cities])"
   ]
  },
  {
   "cell_type": "markdown",
   "metadata": {},
   "source": [
    "### Convert Raw Data to DataFrame\n",
    "* Export the city data into a .csv.\n",
    "* Display the DataFrame"
   ]
  },
  {
   "cell_type": "code",
   "execution_count": 4,
   "metadata": {},
   "outputs": [],
   "source": [
    "#create CSV file of raw data from OpenWeather API"
   ]
  },
  {
   "cell_type": "code",
   "execution_count": 5,
   "metadata": {},
   "outputs": [],
   "source": [
    "df.to_csv(\"cities.csv\")"
   ]
  },
  {
   "cell_type": "code",
   "execution_count": 6,
   "metadata": {},
   "outputs": [
    {
     "data": {
      "text/html": [
       "<div>\n",
       "<style scoped>\n",
       "    .dataframe tbody tr th:only-of-type {\n",
       "        vertical-align: middle;\n",
       "    }\n",
       "\n",
       "    .dataframe tbody tr th {\n",
       "        vertical-align: top;\n",
       "    }\n",
       "\n",
       "    .dataframe thead th {\n",
       "        text-align: right;\n",
       "    }\n",
       "</style>\n",
       "<table border=\"1\" class=\"dataframe\">\n",
       "  <thead>\n",
       "    <tr style=\"text-align: right;\">\n",
       "      <th></th>\n",
       "      <th>name</th>\n",
       "      <th>date_time</th>\n",
       "      <th>lat</th>\n",
       "      <th>lon</th>\n",
       "      <th>temp</th>\n",
       "      <th>temp_min</th>\n",
       "      <th>temp_max</th>\n",
       "      <th>humidity</th>\n",
       "      <th>wind_speed</th>\n",
       "      <th>clouds_percent</th>\n",
       "    </tr>\n",
       "  </thead>\n",
       "  <tbody>\n",
       "    <tr>\n",
       "      <th>0</th>\n",
       "      <td>Ponta Delgada</td>\n",
       "      <td>1578015042</td>\n",
       "      <td>37.73</td>\n",
       "      <td>-25.67</td>\n",
       "      <td>285.15</td>\n",
       "      <td>285.15</td>\n",
       "      <td>285.15</td>\n",
       "      <td>76</td>\n",
       "      <td>3.10</td>\n",
       "      <td>20</td>\n",
       "    </tr>\n",
       "    <tr>\n",
       "      <th>1</th>\n",
       "      <td>Jamestown</td>\n",
       "      <td>1578015017</td>\n",
       "      <td>-33.21</td>\n",
       "      <td>138.60</td>\n",
       "      <td>310.12</td>\n",
       "      <td>310.12</td>\n",
       "      <td>310.12</td>\n",
       "      <td>5</td>\n",
       "      <td>6.25</td>\n",
       "      <td>3</td>\n",
       "    </tr>\n",
       "    <tr>\n",
       "      <th>2</th>\n",
       "      <td>New Norfolk</td>\n",
       "      <td>1578015027</td>\n",
       "      <td>-42.78</td>\n",
       "      <td>147.06</td>\n",
       "      <td>293.16</td>\n",
       "      <td>292.04</td>\n",
       "      <td>294.82</td>\n",
       "      <td>55</td>\n",
       "      <td>4.60</td>\n",
       "      <td>75</td>\n",
       "    </tr>\n",
       "    <tr>\n",
       "      <th>3</th>\n",
       "      <td>Bredasdorp</td>\n",
       "      <td>1578015019</td>\n",
       "      <td>-34.53</td>\n",
       "      <td>20.04</td>\n",
       "      <td>287.48</td>\n",
       "      <td>286.48</td>\n",
       "      <td>289.15</td>\n",
       "      <td>87</td>\n",
       "      <td>1.00</td>\n",
       "      <td>18</td>\n",
       "    </tr>\n",
       "    <tr>\n",
       "      <th>4</th>\n",
       "      <td>Hithadhoo</td>\n",
       "      <td>1578015023</td>\n",
       "      <td>-0.60</td>\n",
       "      <td>73.08</td>\n",
       "      <td>301.56</td>\n",
       "      <td>301.56</td>\n",
       "      <td>301.56</td>\n",
       "      <td>72</td>\n",
       "      <td>4.27</td>\n",
       "      <td>47</td>\n",
       "    </tr>\n",
       "  </tbody>\n",
       "</table>\n",
       "</div>"
      ],
      "text/plain": [
       "            name   date_time    lat     lon    temp  temp_min  temp_max  \\\n",
       "0  Ponta Delgada  1578015042  37.73  -25.67  285.15    285.15    285.15   \n",
       "1      Jamestown  1578015017 -33.21  138.60  310.12    310.12    310.12   \n",
       "2    New Norfolk  1578015027 -42.78  147.06  293.16    292.04    294.82   \n",
       "3     Bredasdorp  1578015019 -34.53   20.04  287.48    286.48    289.15   \n",
       "4      Hithadhoo  1578015023  -0.60   73.08  301.56    301.56    301.56   \n",
       "\n",
       "   humidity  wind_speed  clouds_percent  \n",
       "0        76        3.10              20  \n",
       "1         5        6.25               3  \n",
       "2        55        4.60              75  \n",
       "3        87        1.00              18  \n",
       "4        72        4.27              47  "
      ]
     },
     "execution_count": 6,
     "metadata": {},
     "output_type": "execute_result"
    }
   ],
   "source": [
    "df.head()"
   ]
  },
  {
   "cell_type": "code",
   "execution_count": null,
   "metadata": {},
   "outputs": [],
   "source": []
  }
 ],
 "metadata": {
  "anaconda-cloud": {},
  "kernel_info": {
   "name": "python3"
  },
  "kernelspec": {
   "display_name": "api",
   "language": "python",
   "name": "api"
  },
  "language_info": {
   "codemirror_mode": {
    "name": "ipython",
    "version": 3
   },
   "file_extension": ".py",
   "mimetype": "text/x-python",
   "name": "python",
   "nbconvert_exporter": "python",
   "pygments_lexer": "ipython3",
   "version": "3.7.4"
  },
  "nteract": {
   "version": "0.12.3"
  }
 },
 "nbformat": 4,
 "nbformat_minor": 2
}
